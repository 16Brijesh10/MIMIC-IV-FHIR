{
 "cells": [
  {
   "cell_type": "code",
   "execution_count": 8,
   "id": "b4cc02d7",
   "metadata": {},
   "outputs": [
    {
     "name": "stdout",
     "output_type": "stream",
     "text": [
      "CSV file generated successfully!\n"
     ]
    }
   ],
   "source": [
    "import json\n",
    "import csv\n",
    "from datetime import datetime\n",
    "\n",
    "# Function to read and parse JSON files\n",
    "def read_json_file(file_path):\n",
    "    data = []\n",
    "    with open(file_path, \"r\") as f:\n",
    "        for line in f:\n",
    "            json_data = json.loads(line)\n",
    "            data.append(json_data)\n",
    "    return data\n",
    "\n",
    "# Convert timestamp to unix format\n",
    "def convert_to_unix(timestamp):\n",
    "    return int(datetime.strptime(timestamp, \"%Y-%m-%dT%H:%M:%S%z\").timestamp())\n",
    "\n",
    "# Define the file paths\n",
    "patient_file_path = \"/home/rajabala/Downloads/brijesh/mimic-fhir/Patient.ndjson\"\n",
    "condition_file_path = \"/home/rajabala/Downloads/brijesh/mimic-fhir/Condition.ndjson\"\n",
    "encounter_file_path = \"/home/rajabala/Downloads/brijesh/mimic-fhir/Encounter.ndjson\"\n",
    "encounter_icu_file_path = \"/home/rajabala/Downloads/brijesh/mimic-fhir/EncounterICU.ndjson\"\n",
    "csv_file_path = \"/home/rajabala/Downloads/brijesh/out/patientcondition.csv\"\n",
    "\n",
    "# Step 1: Associate conditions with patients\n",
    "patients = read_json_file(patient_file_path)\n",
    "conditions = read_json_file(condition_file_path)\n",
    "encounters = read_json_file(encounter_file_path)\n",
    "encounters_icu = read_json_file(encounter_icu_file_path)\n",
    "\n",
    "patient_conditions = {}\n",
    "for condition in conditions:\n",
    "    patient_id = condition['subject']['reference'].split('/')[-1]\n",
    "    condition_data = {\n",
    "        'code': condition['code']['coding'][0]['code'],\n",
    "        'description': condition['code']['coding'][0]['display']\n",
    "    }\n",
    "    if patient_id in patient_conditions:\n",
    "        patient_conditions[patient_id].append(condition_data)\n",
    "    else:\n",
    "        patient_conditions[patient_id] = [condition_data]\n",
    "\n",
    "# Step 2: Estimate time for each condition\n",
    "patient_condition_timestamps = []\n",
    "all_encounters = encounters + encounters_icu\n",
    "for patient_id, conditions_list in patient_conditions.items():\n",
    "    for condition in conditions_list:\n",
    "        condition_code = condition['code']\n",
    "        for encounter in all_encounters:\n",
    "            if encounter['subject']['reference'].split('/')[-1] == patient_id:\n",
    "                encounter_start_time = encounter['period']['start']\n",
    "                patient_condition_timestamps.append({\n",
    "                    'pid': patient_id,\n",
    "                    'time': encounter_start_time,\n",
    "                    'code': condition_code,\n",
    "                    'description': condition['description']\n",
    "                })\n",
    "                break\n",
    "\n",
    "# Step 3: Write data to CSV file\n",
    "with open(csv_file_path, mode='w', newline='') as csv_file:\n",
    "    fieldnames = ['pid', 'time', 'code', 'description']\n",
    "    writer = csv.DictWriter(csv_file, fieldnames=fieldnames)\n",
    "\n",
    "    writer.writeheader()\n",
    "    for record in patient_condition_timestamps:\n",
    "        record['time'] = convert_to_unix(record['time'])\n",
    "        writer.writerow(record)\n",
    "\n",
    "print(\"CSV file generated successfully!\")"
   ]
  },
  {
   "cell_type": "code",
   "execution_count": null,
   "id": "99734844",
   "metadata": {},
   "outputs": [],
   "source": []
  }
 ],
 "metadata": {
  "kernelspec": {
   "display_name": "Python 3 (ipykernel)",
   "language": "python",
   "name": "python3"
  },
  "language_info": {
   "codemirror_mode": {
    "name": "ipython",
    "version": 3
   },
   "file_extension": ".py",
   "mimetype": "text/x-python",
   "name": "python",
   "nbconvert_exporter": "python",
   "pygments_lexer": "ipython3",
   "version": "3.9.12"
  }
 },
 "nbformat": 4,
 "nbformat_minor": 5
}
